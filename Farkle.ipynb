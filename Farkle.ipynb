{
 "cells": [
  {
   "cell_type": "markdown",
   "metadata": {},
   "source": [
    "### Import Libraries"
   ]
  },
  {
   "cell_type": "code",
   "execution_count": 16,
   "metadata": {},
   "outputs": [],
   "source": [
    "import random"
   ]
  },
  {
   "cell_type": "markdown",
   "metadata": {},
   "source": [
    "### Initialize first Roll"
   ]
  },
  {
   "cell_type": "code",
   "execution_count": 17,
   "metadata": {},
   "outputs": [],
   "source": [
    "dice_to_roll = 6"
   ]
  },
  {
   "cell_type": "markdown",
   "metadata": {},
   "source": [
    "### Set Scoring Rolls"
   ]
  },
  {
   "cell_type": "code",
   "execution_count": 18,
   "metadata": {},
   "outputs": [],
   "source": [
    "scoring = {\n",
    "  \"straight\" : {\n",
    "    \"roll\" : [1,2,3,4,5,6],\n",
    "    \"score\" : 1000\n",
    "  },\n",
    "  \"three_ones\" : {\n",
    "    \"roll\" : [1,1,1],\n",
    "    \"score\" : 1000\n",
    "  },\n",
    "  \"three_twos\" : {\n",
    "    \"roll\" : [2,2,2],\n",
    "    \"score\" : 200\n",
    "  },\n",
    "  \"three_threes\" : {\n",
    "    \"roll\" : [3,3,3],\n",
    "    \"score\" : 300\n",
    "  },\n",
    "  \"three_fours\" : {\n",
    "    \"roll\" : [4,4,4],\n",
    "    \"score\" : 400\n",
    "  },\n",
    "  \"three_fives\" : {\n",
    "    \"roll\" : [5,5,5],\n",
    "    \"score\" : 500\n",
    "  },\n",
    "  \"three_sixes\" : {\n",
    "    \"roll\" : [6,6,6],\n",
    "    \"score\" : 600\n",
    "  },\n",
    "  \"one_one\" : {\n",
    "    \"roll\" : [1],\n",
    "    \"score\" : 100\n",
    "  },\n",
    "  \"one_five\" : {\n",
    "    \"roll\" : [5],\n",
    "    \"score\" : 50\n",
    "  },\n",
    "}"
   ]
  },
  {
   "cell_type": "markdown",
   "metadata": {},
   "source": [
    "### Roll Dice Function"
   ]
  },
  {
   "cell_type": "code",
   "execution_count": 19,
   "metadata": {},
   "outputs": [
    {
     "name": "stdout",
     "output_type": "stream",
     "text": [
      "[4, 3, 4, 2, 1, 3]\n"
     ]
    }
   ],
   "source": [
    "dice_roll = []\n",
    "for i in range(0,dice_to_roll):\n",
    "    n = random.randint(1,6)\n",
    "    dice_roll.append(n)\n",
    "print(dice_roll)"
   ]
  },
  {
   "cell_type": "markdown",
   "metadata": {},
   "source": [
    "### Pull Dice"
   ]
  },
  {
   "cell_type": "code",
   "execution_count": 20,
   "metadata": {},
   "outputs": [
    {
     "ename": "SyntaxError",
     "evalue": "unexpected EOF while parsing (<ipython-input-20-46ebf3a38af9>, line 2)",
     "output_type": "error",
     "traceback": [
      "\u001b[0;36m  File \u001b[0;32m\"<ipython-input-20-46ebf3a38af9>\"\u001b[0;36m, line \u001b[0;32m2\u001b[0m\n\u001b[0;31m    \u001b[0m\n\u001b[0m    ^\u001b[0m\n\u001b[0;31mSyntaxError\u001b[0m\u001b[0;31m:\u001b[0m unexpected EOF while parsing\n"
     ]
    }
   ],
   "source": [
    "\n",
    "    "
   ]
  },
  {
   "cell_type": "code",
   "execution_count": null,
   "metadata": {},
   "outputs": [],
   "source": []
  }
 ],
 "metadata": {
  "kernelspec": {
   "display_name": "Python",
   "language": "python",
   "name": "conda-env-python-py"
  },
  "language_info": {
   "codemirror_mode": {
    "name": "ipython",
    "version": 3
   },
   "file_extension": ".py",
   "mimetype": "text/x-python",
   "name": "python",
   "nbconvert_exporter": "python",
   "pygments_lexer": "ipython3",
   "version": "3.6.7"
  }
 },
 "nbformat": 4,
 "nbformat_minor": 4
}
